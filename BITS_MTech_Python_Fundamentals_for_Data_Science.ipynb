{
  "nbformat": 4,
  "nbformat_minor": 0,
  "metadata": {
    "colab": {
      "name": "BITS MTech Python Fundamentals for Data Science.ipynb",
      "provenance": [],
      "collapsed_sections": [],
      "authorship_tag": "ABX9TyOrWR1GNNI4jkoGFAAc/4YQ",
      "include_colab_link": true
    },
    "kernelspec": {
      "name": "python3",
      "display_name": "Python 3"
    },
    "language_info": {
      "name": "python"
    }
  },
  "cells": [
    {
      "cell_type": "markdown",
      "metadata": {
        "id": "view-in-github",
        "colab_type": "text"
      },
      "source": [
        "<a href=\"https://colab.research.google.com/github/sumit4git/Algorithms/blob/master/BITS_MTech_Python_Fundamentals_for_Data_Science.ipynb\" target=\"_parent\"><img src=\"https://colab.research.google.com/assets/colab-badge.svg\" alt=\"Open In Colab\"/></a>"
      ]
    },
    {
      "cell_type": "markdown",
      "metadata": {
        "id": "z2Y_4YrZLuVn"
      },
      "source": [
        "1. Given a number, find the sum of its digits. Take the number as an input from the user."
      ]
    },
    {
      "cell_type": "code",
      "metadata": {
        "colab": {
          "base_uri": "https://localhost:8080/"
        },
        "id": "BXJ7cEv_LwTZ",
        "outputId": "a47d878d-3e5a-4b7d-94b7-36bd5328a2e1"
      },
      "source": [
        "n = int(input(\"Enter number:\"))\n",
        "sum = 0;\n",
        "while n > 0:\n",
        "  sum += n%10\n",
        "  n=n//10\n",
        "print(sum)"
      ],
      "execution_count": 18,
      "outputs": [
        {
          "output_type": "stream",
          "text": [
            "Enter number:123\n",
            "6\n"
          ],
          "name": "stdout"
        }
      ]
    },
    {
      "cell_type": "code",
      "metadata": {
        "colab": {
          "base_uri": "https://localhost:8080/"
        },
        "id": "tzsxWESBP4_L",
        "outputId": "a1f2366a-124e-43cb-c4d1-a7d9cf4858f4"
      },
      "source": [
        "def sumOfDigits(n):\n",
        "  if n==0:\n",
        "    return 0\n",
        "  else:\n",
        "    return n%10 + sumOfDigits(n//10)\n",
        "  \n",
        "sumOfDigits(789)"
      ],
      "execution_count": 14,
      "outputs": [
        {
          "output_type": "execute_result",
          "data": {
            "text/plain": [
              "24"
            ]
          },
          "metadata": {
            "tags": []
          },
          "execution_count": 14
        }
      ]
    },
    {
      "cell_type": "markdown",
      "metadata": {
        "id": "FUyToDOdR2S-"
      },
      "source": [
        "2. Given a number, check whether the given number is an Armstrong number or not. A positive integer is called an Armstrong number of order n if:\n",
        "\n",
        "abcd... = an + bn + cn + dn + ...\n",
        "\n",
        "Example: 153 = 1*1*1 + 5*5*5 + 3*3*3 \n",
        "\n",
        "153 is an Armstrong number of order 3.\n",
        "\n",
        "Inputs from the user will be number and order n."
      ]
    },
    {
      "cell_type": "code",
      "metadata": {
        "colab": {
          "base_uri": "https://localhost:8080/"
        },
        "id": "EepSHbW3SxqE",
        "outputId": "eb782b94-e9b5-4729-caf7-ff8735aa1505"
      },
      "source": [
        "input_value = 153\n",
        "n = input_value\n",
        "sum = 0;\n",
        "while n > 0:\n",
        "  digit = n%10\n",
        "  sum += digit ** 3\n",
        "  n=n//10\n",
        "print(sum == input_value)"
      ],
      "execution_count": 19,
      "outputs": [
        {
          "output_type": "stream",
          "text": [
            "True\n"
          ],
          "name": "stdout"
        }
      ]
    }
  ]
}